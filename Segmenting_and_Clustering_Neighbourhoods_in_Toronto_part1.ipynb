{
  "nbformat": 4,
  "nbformat_minor": 0,
  "metadata": {
    "colab": {
      "name": "Segmenting and Clustering Neighbourhoods in Toronto_part1.ipynb",
      "provenance": [],
      "collapsed_sections": [],
      "authorship_tag": "ABX9TyPbxcbYkcXQXFES0ng5l7XO",
      "include_colab_link": true
    },
    "kernelspec": {
      "name": "python3",
      "display_name": "Python 3"
    },
    "language_info": {
      "name": "python"
    }
  },
  "cells": [
    {
      "cell_type": "markdown",
      "metadata": {
        "id": "view-in-github",
        "colab_type": "text"
      },
      "source": [
        "<a href=\"https://colab.research.google.com/github/naokityokoyama/coursera/blob/main/Segmenting_and_Clustering_Neighbourhoods_in_Toronto_part1.ipynb\" target=\"_parent\"><img src=\"https://colab.research.google.com/assets/colab-badge.svg\" alt=\"Open In Colab\"/></a>"
      ]
    },
    {
      "cell_type": "markdown",
      "metadata": {
        "id": "_qPaqWK69zlq"
      },
      "source": [
        "# Segmenting and Clustering Neighbourhoods in Toronto"
      ]
    },
    {
      "cell_type": "code",
      "metadata": {
        "id": "QKH_06-T9sS2"
      },
      "source": [
        "import pandas as pd\n",
        "import numpy as np\n",
        "import requests\n",
        "import json\n",
        "from bs4 import BeautifulSoup\n",
        "import re"
      ],
      "execution_count": 44,
      "outputs": []
    },
    {
      "cell_type": "code",
      "metadata": {
        "id": "Klxu-TU6DkyG"
      },
      "source": [
        "url = \"https://en.wikipedia.org/wiki/List_of_postal_codes_of_Canada:_M\""
      ],
      "execution_count": 1,
      "outputs": []
    },
    {
      "cell_type": "code",
      "metadata": {
        "id": "uzQmu0J3GtTd"
      },
      "source": [
        "html = requests.get(url)\n",
        "soup = BeautifulSoup(html.text, 'lxml')"
      ],
      "execution_count": 10,
      "outputs": []
    },
    {
      "cell_type": "code",
      "metadata": {
        "colab": {
          "base_uri": "https://localhost:8080/"
        },
        "id": "Te-U74c3C77d",
        "outputId": "11971f50-1f18-4c9f-d825-f6c309103067"
      },
      "source": [
        "table = soup.find('tbody')\n",
        "tr = table.find('tr')\n",
        "\n",
        "for i in tr.find_all('span'):\n",
        "  print (i.text)"
      ],
      "execution_count": 29,
      "outputs": [
        {
          "output_type": "stream",
          "text": [
            "Not assigned\n",
            "Not assigned\n",
            "North York(Parkwoods)\n",
            "North York(Victoria Village)\n",
            "Downtown Toronto(Regent Park / Harbourfront)\n",
            "North York(Lawrence Manor / Lawrence Heights)\n",
            "Queen's Park(Ontario Provincial Government)\n",
            "Not assigned\n",
            "Etobicoke(Islington Avenue)\n"
          ],
          "name": "stdout"
        }
      ]
    },
    {
      "cell_type": "code",
      "metadata": {
        "id": "ddcAg3_0GeCS"
      },
      "source": [
        "lista_tabela = []\n",
        "tabela = table.find_all('td', style=lambda value:'vertical-align:top')\n",
        "for i in tabela:\n",
        "  lista_tabela.append(i.text)"
      ],
      "execution_count": 242,
      "outputs": []
    },
    {
      "cell_type": "code",
      "metadata": {
        "id": "WbHw6O_GcZBv"
      },
      "source": [
        "#retirar /n\n",
        "lista_total2 = []\n",
        "for i in range(len(lista_tabela)):\n",
        "  lista_total2.append(re.sub(r'\\n', '', lista_total[i]))"
      ],
      "execution_count": 246,
      "outputs": []
    },
    {
      "cell_type": "code",
      "metadata": {
        "id": "fF_zsYVBQzJX"
      },
      "source": [
        "lista_rua = []\n",
        "for i in range(len(lista_tabela)):\n",
        "  lista_rua.append(re.findall(r'\\(.*', lista_total2[i]))\n",
        "\n",
        "lista_rua  "
      ],
      "execution_count": null,
      "outputs": []
    },
    {
      "cell_type": "code",
      "metadata": {
        "id": "MB8WXZIhdWm6"
      },
      "source": [
        "lista_codigo = []\n",
        "for i in range(len(lista_tabela)):\n",
        "  lista_codigo.append(re.findall(r'M\\d.', lista2[i]))"
      ],
      "execution_count": 251,
      "outputs": []
    },
    {
      "cell_type": "code",
      "metadata": {
        "id": "c9uvI0_XTnTo"
      },
      "source": [
        "#dataframe pre limpo\n",
        "um = pd.DataFrame(lista_rua, columns=['Rua'])\n",
        "dois = pd.DataFrame(lista_codigo, columns=['cod', 'outro'])\n",
        "tres = pd.DataFrame(lista_total2, columns=['lista'])"
      ],
      "execution_count": 253,
      "outputs": []
    },
    {
      "cell_type": "code",
      "metadata": {
        "id": "RFwnq5WeUurB"
      },
      "source": [
        "#dropando a coluna outros do dataframe dois\n",
        "dois.drop('outro', axis=1, inplace=True)\n"
      ],
      "execution_count": 254,
      "outputs": []
    },
    {
      "cell_type": "code",
      "metadata": {
        "id": "_Z5RbbjpWypV"
      },
      "source": [
        "#limpando o dataset tres\n",
        "tres_limpo = []\n",
        "for i, j in zip(tres['lista'], dois['cod']):\n",
        "  tres_limpo.append(i.replace(j, ''))"
      ],
      "execution_count": 296,
      "outputs": []
    },
    {
      "cell_type": "code",
      "metadata": {
        "id": "Gj0mu593VYOc"
      },
      "source": [
        "#dataset refeito tres pre limpo\n",
        "tres_limpo = pd.DataFrame(tres_limpo, columns=['limpo'])"
      ],
      "execution_count": 297,
      "outputs": []
    },
    {
      "cell_type": "code",
      "metadata": {
        "id": "lcRWQ2HlZcDk"
      },
      "source": [
        "#limpeza final do dataset tres\n",
        "lista_final = []\n",
        "for i, j in zip(tres_limpo['limpo'], um['Rua']):\n",
        "  if i !='Not assigned':\n",
        "    lista_final.append(i.replace(j, ''))\n",
        "  else:\n",
        "    lista_final.append('Not assigned')"
      ],
      "execution_count": 304,
      "outputs": []
    },
    {
      "cell_type": "code",
      "metadata": {
        "id": "ypogUNHIa4nI"
      },
      "source": [
        "tres_final = pd.DataFrame(lista_final, columns=['bairro'])"
      ],
      "execution_count": 309,
      "outputs": []
    },
    {
      "cell_type": "code",
      "metadata": {
        "colab": {
          "base_uri": "https://localhost:8080/",
          "height": 419
        },
        "id": "bamAIaYPmt-d",
        "outputId": "518a705e-3e2b-4dae-a12e-95282532818f"
      },
      "source": [
        "df"
      ],
      "execution_count": 313,
      "outputs": [
        {
          "output_type": "execute_result",
          "data": {
            "text/html": [
              "<div>\n",
              "<style scoped>\n",
              "    .dataframe tbody tr th:only-of-type {\n",
              "        vertical-align: middle;\n",
              "    }\n",
              "\n",
              "    .dataframe tbody tr th {\n",
              "        vertical-align: top;\n",
              "    }\n",
              "\n",
              "    .dataframe thead th {\n",
              "        text-align: right;\n",
              "    }\n",
              "</style>\n",
              "<table border=\"1\" class=\"dataframe\">\n",
              "  <thead>\n",
              "    <tr style=\"text-align: right;\">\n",
              "      <th></th>\n",
              "      <th>Rua</th>\n",
              "      <th>cod</th>\n",
              "      <th>bairro</th>\n",
              "    </tr>\n",
              "  </thead>\n",
              "  <tbody>\n",
              "    <tr>\n",
              "      <th>0</th>\n",
              "      <td>None</td>\n",
              "      <td>M1A</td>\n",
              "      <td>Not assigned</td>\n",
              "    </tr>\n",
              "    <tr>\n",
              "      <th>1</th>\n",
              "      <td>None</td>\n",
              "      <td>M2A</td>\n",
              "      <td>Not assigned</td>\n",
              "    </tr>\n",
              "    <tr>\n",
              "      <th>2</th>\n",
              "      <td>(Parkwoods)</td>\n",
              "      <td>M3A</td>\n",
              "      <td>North York</td>\n",
              "    </tr>\n",
              "    <tr>\n",
              "      <th>3</th>\n",
              "      <td>(Victoria Village)</td>\n",
              "      <td>M4A</td>\n",
              "      <td>North York</td>\n",
              "    </tr>\n",
              "    <tr>\n",
              "      <th>4</th>\n",
              "      <td>(Regent Park / Harbourfront)</td>\n",
              "      <td>M5A</td>\n",
              "      <td>Downtown Toronto</td>\n",
              "    </tr>\n",
              "    <tr>\n",
              "      <th>...</th>\n",
              "      <td>...</td>\n",
              "      <td>...</td>\n",
              "      <td>...</td>\n",
              "    </tr>\n",
              "    <tr>\n",
              "      <th>175</th>\n",
              "      <td>None</td>\n",
              "      <td>M5Z</td>\n",
              "      <td>Not assigned</td>\n",
              "    </tr>\n",
              "    <tr>\n",
              "      <th>176</th>\n",
              "      <td>None</td>\n",
              "      <td>M6Z</td>\n",
              "      <td>Not assigned</td>\n",
              "    </tr>\n",
              "    <tr>\n",
              "      <th>177</th>\n",
              "      <td>None</td>\n",
              "      <td>M7Z</td>\n",
              "      <td>Not assigned</td>\n",
              "    </tr>\n",
              "    <tr>\n",
              "      <th>178</th>\n",
              "      <td>(Mimico NW / The Queensway West / South of Blo...</td>\n",
              "      <td>M8Z</td>\n",
              "      <td>Etobicoke</td>\n",
              "    </tr>\n",
              "    <tr>\n",
              "      <th>179</th>\n",
              "      <td>None</td>\n",
              "      <td>M9Z</td>\n",
              "      <td>Not assigned</td>\n",
              "    </tr>\n",
              "  </tbody>\n",
              "</table>\n",
              "<p>180 rows × 3 columns</p>\n",
              "</div>"
            ],
            "text/plain": [
              "                                                   Rua  cod            bairro\n",
              "0                                                 None  M1A      Not assigned\n",
              "1                                                 None  M2A      Not assigned\n",
              "2                                          (Parkwoods)  M3A        North York\n",
              "3                                   (Victoria Village)  M4A        North York\n",
              "4                         (Regent Park / Harbourfront)  M5A  Downtown Toronto\n",
              "..                                                 ...  ...               ...\n",
              "175                                               None  M5Z      Not assigned\n",
              "176                                               None  M6Z      Not assigned\n",
              "177                                               None  M7Z      Not assigned\n",
              "178  (Mimico NW / The Queensway West / South of Blo...  M8Z         Etobicoke\n",
              "179                                               None  M9Z      Not assigned\n",
              "\n",
              "[180 rows x 3 columns]"
            ]
          },
          "metadata": {
            "tags": []
          },
          "execution_count": 313
        }
      ]
    },
    {
      "cell_type": "code",
      "metadata": {
        "id": "HsWz3uekJw5L"
      },
      "source": [
        "df = pd.concat([um, dois, tres_final], axis=1)\n",
        "\n",
        "df = df.rename(columns={'cod':'Postal Code', 'bairro':'Borough', 'Rua':'Neighborhood'})\n",
        "df = df.reindex(columns=['Postal Code','Borough','Neighborhood'])"
      ],
      "execution_count": 315,
      "outputs": []
    },
    {
      "cell_type": "code",
      "metadata": {
        "colab": {
          "base_uri": "https://localhost:8080/",
          "height": 419
        },
        "id": "oeRleWN1nrNf",
        "outputId": "d2d80813-3ad0-4060-cd6e-0920bcf2738b"
      },
      "source": [
        "df"
      ],
      "execution_count": 319,
      "outputs": [
        {
          "output_type": "execute_result",
          "data": {
            "text/html": [
              "<div>\n",
              "<style scoped>\n",
              "    .dataframe tbody tr th:only-of-type {\n",
              "        vertical-align: middle;\n",
              "    }\n",
              "\n",
              "    .dataframe tbody tr th {\n",
              "        vertical-align: top;\n",
              "    }\n",
              "\n",
              "    .dataframe thead th {\n",
              "        text-align: right;\n",
              "    }\n",
              "</style>\n",
              "<table border=\"1\" class=\"dataframe\">\n",
              "  <thead>\n",
              "    <tr style=\"text-align: right;\">\n",
              "      <th></th>\n",
              "      <th>Postal Code</th>\n",
              "      <th>Borough</th>\n",
              "      <th>Neighborhood</th>\n",
              "    </tr>\n",
              "  </thead>\n",
              "  <tbody>\n",
              "    <tr>\n",
              "      <th>0</th>\n",
              "      <td>M1A</td>\n",
              "      <td>Not assigned</td>\n",
              "      <td>None</td>\n",
              "    </tr>\n",
              "    <tr>\n",
              "      <th>1</th>\n",
              "      <td>M2A</td>\n",
              "      <td>Not assigned</td>\n",
              "      <td>None</td>\n",
              "    </tr>\n",
              "    <tr>\n",
              "      <th>2</th>\n",
              "      <td>M3A</td>\n",
              "      <td>North York</td>\n",
              "      <td>(Parkwoods)</td>\n",
              "    </tr>\n",
              "    <tr>\n",
              "      <th>3</th>\n",
              "      <td>M4A</td>\n",
              "      <td>North York</td>\n",
              "      <td>(Victoria Village)</td>\n",
              "    </tr>\n",
              "    <tr>\n",
              "      <th>4</th>\n",
              "      <td>M5A</td>\n",
              "      <td>Downtown Toronto</td>\n",
              "      <td>(Regent Park / Harbourfront)</td>\n",
              "    </tr>\n",
              "    <tr>\n",
              "      <th>...</th>\n",
              "      <td>...</td>\n",
              "      <td>...</td>\n",
              "      <td>...</td>\n",
              "    </tr>\n",
              "    <tr>\n",
              "      <th>175</th>\n",
              "      <td>M5Z</td>\n",
              "      <td>Not assigned</td>\n",
              "      <td>None</td>\n",
              "    </tr>\n",
              "    <tr>\n",
              "      <th>176</th>\n",
              "      <td>M6Z</td>\n",
              "      <td>Not assigned</td>\n",
              "      <td>None</td>\n",
              "    </tr>\n",
              "    <tr>\n",
              "      <th>177</th>\n",
              "      <td>M7Z</td>\n",
              "      <td>Not assigned</td>\n",
              "      <td>None</td>\n",
              "    </tr>\n",
              "    <tr>\n",
              "      <th>178</th>\n",
              "      <td>M8Z</td>\n",
              "      <td>Etobicoke</td>\n",
              "      <td>(Mimico NW / The Queensway West / South of Blo...</td>\n",
              "    </tr>\n",
              "    <tr>\n",
              "      <th>179</th>\n",
              "      <td>M9Z</td>\n",
              "      <td>Not assigned</td>\n",
              "      <td>None</td>\n",
              "    </tr>\n",
              "  </tbody>\n",
              "</table>\n",
              "<p>180 rows × 3 columns</p>\n",
              "</div>"
            ],
            "text/plain": [
              "    Postal Code  ...                                       Neighborhood\n",
              "0           M1A  ...                                               None\n",
              "1           M2A  ...                                               None\n",
              "2           M3A  ...                                        (Parkwoods)\n",
              "3           M4A  ...                                 (Victoria Village)\n",
              "4           M5A  ...                       (Regent Park / Harbourfront)\n",
              "..          ...  ...                                                ...\n",
              "175         M5Z  ...                                               None\n",
              "176         M6Z  ...                                               None\n",
              "177         M7Z  ...                                               None\n",
              "178         M8Z  ...  (Mimico NW / The Queensway West / South of Blo...\n",
              "179         M9Z  ...                                               None\n",
              "\n",
              "[180 rows x 3 columns]"
            ]
          },
          "metadata": {
            "tags": []
          },
          "execution_count": 319
        }
      ]
    }
  ]
}